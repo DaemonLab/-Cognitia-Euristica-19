{
 "cells": [
  {
   "cell_type": "code",
   "execution_count": 0,
   "metadata": {
    "colab": {},
    "colab_type": "code",
    "id": "Y4GA6zSVUEMp"
   },
   "outputs": [],
   "source": [
    "import spacy , os ,re"
   ]
  },
  {
   "cell_type": "code",
   "execution_count": 0,
   "metadata": {
    "colab": {},
    "colab_type": "code",
    "id": "YJG01u1PUHGO"
   },
   "outputs": [],
   "source": [
    "nlp = spacy.load(\"en_core_web_sm\")"
   ]
  },
  {
   "cell_type": "code",
   "execution_count": 3,
   "metadata": {
    "colab": {
     "base_uri": "https://localhost:8080/",
     "height": 301
    },
    "colab_type": "code",
    "id": "rQxhBHiWW3Pu",
    "outputId": "d9da0507-7dc8-4447-dded-3d9ec763d80f"
   },
   "outputs": [
    {
     "name": "stdout",
     "output_type": "stream",
     "text": [
      "--2019-04-14 13:35:18--  https://github.com/DaemonLab/Cognitia-Euristica-19/raw/master/resumes.zip\n",
      "Resolving github.com (github.com)... 192.30.253.112, 192.30.253.113\n",
      "Connecting to github.com (github.com)|192.30.253.112|:443... connected.\n",
      "HTTP request sent, awaiting response... 302 Found\n",
      "Location: https://raw.githubusercontent.com/DaemonLab/Cognitia-Euristica-19/master/resumes.zip [following]\n",
      "--2019-04-14 13:35:18--  https://raw.githubusercontent.com/DaemonLab/Cognitia-Euristica-19/master/resumes.zip\n",
      "Resolving raw.githubusercontent.com (raw.githubusercontent.com)... 151.101.0.133, 151.101.64.133, 151.101.128.133, ...\n",
      "Connecting to raw.githubusercontent.com (raw.githubusercontent.com)|151.101.0.133|:443... connected.\n",
      "HTTP request sent, awaiting response... 200 OK\n",
      "Length: 734141 (717K) [application/zip]\n",
      "Saving to: ‘resumes.zip’\n",
      "\n",
      "\r",
      "resumes.zip           0%[                    ]       0  --.-KB/s               \r",
      "resumes.zip         100%[===================>] 716.93K  --.-KB/s    in 0.04s   \n",
      "\n",
      "2019-04-14 13:35:18 (19.0 MB/s) - ‘resumes.zip’ saved [734141/734141]\n",
      "\n"
     ]
    }
   ],
   "source": [
    "!wget https://github.com/DaemonLab/Cognitia-Euristica-19/raw/master/resumes.zip"
   ]
  },
  {
   "cell_type": "code",
   "execution_count": 1,
   "metadata": {
    "colab": {
     "base_uri": "https://localhost:8080/",
     "height": 265
    },
    "colab_type": "code",
    "id": "6sgjAts4XYhr",
    "outputId": "dbc903f8-b691-45a7-b439-452514e7cbc1"
   },
   "outputs": [
    {
     "name": "stdout",
     "output_type": "stream",
     "text": [
      "Archive:  resumes.zip\r\n",
      "  inflating: resumes/sample_output.json  \r\n",
      "  inflating: resumes/Gangadhar Vasanthapuram_Spruce InfoTech.txt  \r\n",
      "  inflating: resumes/CV of Binnu Thomas.txt  \r\n",
      "  inflating: resumes/Arup_Kumar_H1 B_NC.txt  \r\n",
      "  inflating: resumes/Abbas- MS Dyna.txt  \r\n",
      "  inflating: resumes/Amarnath.txt    \r\n",
      "  inflating: resumes/Doc-Version/Gangadhar Vasanthapuram_Spruce InfoTech.docx  \r\n",
      "  inflating: resumes/Doc-Version/Abbas- MS Dyna.docx  \r\n",
      "  inflating: resumes/Doc-Version/Amarnath.doc  \r\n",
      "  inflating: resumes/Doc-Version/CV of Binnu Thomas.doc  \r\n",
      "  inflating: resumes/Doc-Version/Arup_Kumar_H1 B_NC.docx  \r\n"
     ]
    }
   ],
   "source": [
    "!unzip -o resumes.zip"
   ]
  },
  {
   "cell_type": "code",
   "execution_count": 2,
   "metadata": {
    "colab": {},
    "colab_type": "code",
    "id": "ClcjdrLKYArF"
   },
   "outputs": [],
   "source": [
    "import os\n",
    "files = os.listdir(\"resumes\")"
   ]
  },
  {
   "cell_type": "code",
   "execution_count": 3,
   "metadata": {
    "colab": {},
    "colab_type": "code",
    "id": "0nnSdc5-YKLe"
   },
   "outputs": [],
   "source": [
    "files = [f for f in files if f.endswith(\".txt\")]"
   ]
  },
  {
   "cell_type": "code",
   "execution_count": 4,
   "metadata": {
    "colab": {
     "base_uri": "https://localhost:8080/",
     "height": 105
    },
    "colab_type": "code",
    "id": "_tiUUjvMYg2f",
    "outputId": "f56950e4-8341-4aa0-afb1-09d1bc5b4320"
   },
   "outputs": [
    {
     "data": {
      "text/plain": [
       "['Amarnath.txt',\n",
       " 'Arup_Kumar_H1 B_NC.txt',\n",
       " 'Abbas- MS Dyna.txt',\n",
       " 'Gangadhar Vasanthapuram_Spruce InfoTech.txt',\n",
       " 'CV of Binnu Thomas.txt']"
      ]
     },
     "execution_count": 4,
     "metadata": {},
     "output_type": "execute_result"
    }
   ],
   "source": [
    "files"
   ]
  },
  {
   "cell_type": "code",
   "execution_count": 0,
   "metadata": {
    "colab": {},
    "colab_type": "code",
    "id": "tsbHRPHFYp21"
   },
   "outputs": [],
   "source": [
    "def find_email(x):\n",
    "  lst = re.findall(r\"[a-z0-9\\.\\-+_]+@[a-z0-9\\.\\-+_]+\\.[a-z]+\", x[:1000])\n",
    "  return(list(set(lst)))"
   ]
  },
  {
   "cell_type": "code",
   "execution_count": 0,
   "metadata": {
    "colab": {},
    "colab_type": "code",
    "id": "j3pCBkvLcGTk"
   },
   "outputs": [],
   "source": [
    "def find_contact(x):\n",
    "  lst = re.findall(\"(\\(?\\d{3}\\D{0,3}\\d{3}\\D{0,3}\\d{4}).*?\", x)\n",
    "  temp = []\n",
    "  for num in lst:\n",
    "    number = num.replace(\"-\", \"\")\n",
    "    number = number.replace(\" \", \"\")\n",
    "    temp.append(number)\n",
    "  return(list(set(temp)))"
   ]
  },
  {
   "cell_type": "code",
   "execution_count": 0,
   "metadata": {
    "colab": {},
    "colab_type": "code",
    "id": "MqeLN1BEe3Jd"
   },
   "outputs": [],
   "source": [
    "def find_name(x):\n",
    "  doc = nlp(x[:2000])\n",
    "  temp = []\n",
    "  for ent in doc.ents:\n",
    "    if ent.label_ == 'PERSON':\n",
    "      temp.append(ent.text)\n",
    "  return(temp[0])"
   ]
  },
  {
   "cell_type": "code",
   "execution_count": 0,
   "metadata": {
    "colab": {},
    "colab_type": "code",
    "id": "HdeAUDm5irCn"
   },
   "outputs": [],
   "source": [
    "def find_tech(x):\n",
    "  doc = nlp(x)\n",
    "  temp = []\n",
    "  for ent in doc.ents:\n",
    "    if ent.label_ == 'ORG':\n",
    "      temp.append(ent.text)\n",
    "  temp = [t for t in temp if \"\\t\" not in t]\n",
    "  temp = [t for t in temp if \"\\n\" not in t]\n",
    "  temp = [t for t in temp if \"(\" not in t]\n",
    "  temp = [t for t in temp if \"\\u00a0\" not in t]\n",
    "  temp = [t for t in temp if \"-\" not in t]\n",
    "  \n",
    "  return(list(set(temp)))"
   ]
  },
  {
   "cell_type": "code",
   "execution_count": 0,
   "metadata": {
    "colab": {},
    "colab_type": "code",
    "id": "QmKEg1YTZ8EC"
   },
   "outputs": [],
   "source": []
  },
  {
   "cell_type": "code",
   "execution_count": 0,
   "metadata": {
    "colab": {},
    "colab_type": "code",
    "id": "PgjyXNDajK4f"
   },
   "outputs": [],
   "source": [
    "import json\n",
    "\n",
    "for file in files:\n",
    "  f = open(\"resumes/\"+str(file), \"r\")\n",
    "  d = dict()\n",
    "  doc = f.read()\n",
    "  name = find_name(doc)\n",
    "  contact = find_contact(doc[:1000])\n",
    "  email = find_email(doc)\n",
    "  tech = find_tech(doc)\n",
    "  #edu = find_edu(doc)   (not implemented)\n",
    "  d[\"name\"] = name\n",
    "  d[\"email\"] = email\n",
    "  d[\"phone\"] = contact\n",
    "  d[\"edu\"] = None\n",
    "  d[\"exp\"] = tech\n",
    "  \n",
    "  #writing to file\n",
    "  with open(str(file.replace(\".txt\", \"\"))+\".json\", \"w\") as f:\n",
    "    f.write(json.dumps(d, indent=4))\n",
    "  f.close()"
   ]
  },
  {
   "cell_type": "code",
   "execution_count": null,
   "metadata": {
    "colab": {
     "base_uri": "https://localhost:8080/",
     "height": 558,
     "resources": {
      "http://localhost:19741/content/.config": {
       "data": "CjwhRE9DVFlQRSBodG1sPgo8aHRtbCBsYW5nPWVuPgogIDxtZXRhIGNoYXJzZXQ9dXRmLTg+CiAgPG1ldGEgbmFtZT12aWV3cG9ydCBjb250ZW50PSJpbml0aWFsLXNjYWxlPTEsIG1pbmltdW0tc2NhbGU9MSwgd2lkdGg9ZGV2aWNlLXdpZHRoIj4KICA8dGl0bGU+RXJyb3IgNTAxIChOb3QgSW1wbGVtZW50ZWQpISExPC90aXRsZT4KICA8c3R5bGU+CiAgICAqe21hcmdpbjowO3BhZGRpbmc6MH1odG1sLGNvZGV7Zm9udDoxNXB4LzIycHggYXJpYWwsc2Fucy1zZXJpZn1odG1se2JhY2tncm91bmQ6I2ZmZjtjb2xvcjojMjIyO3BhZGRpbmc6MTVweH1ib2R5e21hcmdpbjo3JSBhdXRvIDA7bWF4LXdpZHRoOjM5MHB4O21pbi1oZWlnaHQ6MTgwcHg7cGFkZGluZzozMHB4IDAgMTVweH0qID4gYm9keXtiYWNrZ3JvdW5kOnVybCgvL3d3dy5nb29nbGUuY29tL2ltYWdlcy9lcnJvcnMvcm9ib3QucG5nKSAxMDAlIDVweCBuby1yZXBlYXQ7cGFkZGluZy1yaWdodDoyMDVweH1we21hcmdpbjoxMXB4IDAgMjJweDtvdmVyZmxvdzpoaWRkZW59aW5ze2NvbG9yOiM3Nzc7dGV4dC1kZWNvcmF0aW9uOm5vbmV9YSBpbWd7Ym9yZGVyOjB9QG1lZGlhIHNjcmVlbiBhbmQgKG1heC13aWR0aDo3NzJweCl7Ym9keXtiYWNrZ3JvdW5kOm5vbmU7bWFyZ2luLXRvcDowO21heC13aWR0aDpub25lO3BhZGRpbmctcmlnaHQ6MH19I2xvZ297YmFja2dyb3VuZDp1cmwoLy93d3cuZ29vZ2xlLmNvbS9pbWFnZXMvbG9nb3MvZXJyb3JwYWdlL2Vycm9yX2xvZ28tMTUweDU0LnBuZykgbm8tcmVwZWF0O21hcmdpbi1sZWZ0Oi01cHh9QG1lZGlhIG9ubHkgc2NyZWVuIGFuZCAobWluLXJlc29sdXRpb246MTkyZHBpKXsjbG9nb3tiYWNrZ3JvdW5kOnVybCgvL3d3dy5nb29nbGUuY29tL2ltYWdlcy9sb2dvcy9lcnJvcnBhZ2UvZXJyb3JfbG9nby0xNTB4NTQtMngucG5nKSBuby1yZXBlYXQgMCUgMCUvMTAwJSAxMDAlOy1tb3otYm9yZGVyLWltYWdlOnVybCgvL3d3dy5nb29nbGUuY29tL2ltYWdlcy9sb2dvcy9lcnJvcnBhZ2UvZXJyb3JfbG9nby0xNTB4NTQtMngucG5nKSAwfX1AbWVkaWEgb25seSBzY3JlZW4gYW5kICgtd2Via2l0LW1pbi1kZXZpY2UtcGl4ZWwtcmF0aW86Mil7I2xvZ297YmFja2dyb3VuZDp1cmwoLy93d3cuZ29vZ2xlLmNvbS9pbWFnZXMvbG9nb3MvZXJyb3JwYWdlL2Vycm9yX2xvZ28tMTUweDU0LTJ4LnBuZykgbm8tcmVwZWF0Oy13ZWJraXQtYmFja2dyb3VuZC1zaXplOjEwMCUgMTAwJX19I2xvZ297ZGlzcGxheTppbmxpbmUtYmxvY2s7aGVpZ2h0OjU0cHg7d2lkdGg6MTUwcHh9CiAgPC9zdHlsZT4KICA8YSBocmVmPS8vd3d3Lmdvb2dsZS5jb20vPjxzcGFuIGlkPWxvZ28gYXJpYS1sYWJlbD1Hb29nbGU+PC9zcGFuPjwvYT4KICA8cD48Yj41MDEuPC9iPiA8aW5zPlRoYXTigJlzIGFuIGVycm9yLjwvaW5zPgogIDxwPiAgPGlucz5UaGF04oCZcyBhbGwgd2Uga25vdy48L2lucz4K",
       "headers": [
        [
         "content-length",
         "1455"
        ],
        [
         "content-type",
         "text/html; charset=utf-8"
        ]
       ],
       "ok": false,
       "status": 501,
       "status_text": ""
      }
     }
    },
    "colab_type": "code",
    "id": "T3za4UxSjcY5",
    "outputId": "7915317e-2640-46a5-a287-d4a1e0ab7448"
   },
   "outputs": [],
   "source": []
  },
  {
   "cell_type": "code",
   "execution_count": null,
   "metadata": {
    "colab": {
     "base_uri": "https://localhost:8080/",
     "height": 194
    },
    "colab_type": "code",
    "id": "ladZr_BWFczW",
    "outputId": "545369be-df6d-4076-edea-bac66704259f"
   },
   "outputs": [],
   "source": []
  },
  {
   "cell_type": "code",
   "execution_count": 0,
   "metadata": {
    "colab": {},
    "colab_type": "code",
    "id": "NAbytiVlL9Nt"
   },
   "outputs": [],
   "source": []
  }
 ],
 "metadata": {
  "colab": {
   "collapsed_sections": [],
   "name": "Untitled0.ipynb",
   "provenance": [],
   "version": "0.3.2"
  },
  "kernelspec": {
   "display_name": "Python 3",
   "language": "python",
   "name": "python3"
  },
  "language_info": {
   "codemirror_mode": {
    "name": "ipython",
    "version": 3
   },
   "file_extension": ".py",
   "mimetype": "text/x-python",
   "name": "python",
   "nbconvert_exporter": "python",
   "pygments_lexer": "ipython3",
   "version": "3.6.5"
  }
 },
 "nbformat": 4,
 "nbformat_minor": 1
}
