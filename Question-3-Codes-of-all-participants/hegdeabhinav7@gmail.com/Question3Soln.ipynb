{
 "cells": [
  {
   "cell_type": "code",
   "execution_count": 2,
   "metadata": {
    "collapsed": true
   },
   "outputs": [],
   "source": [
    "    \n",
    "#!/usr/bin/env python\n",
    "\n",
    "import nltk, os, subprocess, code, glob, re, traceback, sys, inspect\n",
    "from time import clock, sleep\n",
    "from pprint import pprint\n",
    "import json\n",
    "import zipfile\n",
    "# import ner\n",
    "\n",
    "#from convertRtfToText import convertRtfToText\n",
    "\n",
    "\n"
   ]
  },
  {
   "cell_type": "code",
   "execution_count": 65,
   "metadata": {},
   "outputs": [],
   "source": [
    "\n",
    "def preprocess(document):\n",
    "    \n",
    "    try:\n",
    "        \n",
    "        lines = [el.strip() for el in document.split(\"\\n\") if len(el) > 0]  # Splitting on the basis of newlines \n",
    "        lines = [nltk.word_tokenize(el) for el in lines]    # Tokenize the individual lines\n",
    "        lines = [nltk.pos_tag(el) for el in lines]  # Tag them\n",
    "     \n",
    "        sentences = nltk.sent_tokenize(document)    # Split/Tokenize into sentences (List of strings)\n",
    "        sentences = [nltk.word_tokenize(sent) for sent in sentences]    # Split/Tokenize sentences into words (List of lists of strings)\n",
    "        tokens = sentences\n",
    "        sentences = [nltk.pos_tag(sent) for sent in sentences]    # Tag the tokens - list of lists of tuples - each tuple is (<word>, <tag>)\n",
    "       \n",
    "        dummy = []\n",
    "        for el in tokens:\n",
    "            dummy += el\n",
    "        tokens = dummy\n",
    "        \n",
    "        return tokens, lines, sentences\n",
    "    except Exception as e:\n",
    "        print(e) \n",
    "\n",
    "def tokenize(inputString):\n",
    "    try:\n",
    "        tokens, lines, sentences = preprocess(inputString)\n",
    "        return tokens, lines, sentences\n",
    "    except Exception as e:\n",
    "        print(e)\n",
    "\n",
    "def getEmail(inputString, infoDict, debug=False): \n",
    "   \n",
    "    email = None\n",
    "    try:\n",
    "        pattern = re.compile(r'\\S*@\\S*')\n",
    "        matches = pattern.findall(inputString) # Gets all email addresses as a list\n",
    "        email = matches\n",
    "    except Exception as e:\n",
    "        print(e)\n",
    "\n",
    "    infoDict['email'] = email\n",
    "\n",
    "    if debug:\n",
    "        print(\"\\n\", pprint(infoDict), \"\\n\")\n",
    "        code.interact(local=locals())\n",
    "    return email\n",
    "\n",
    "def getPhone(inputString, infoDict, debug=False):\n",
    "  \n",
    "\n",
    "    number = None\n",
    "    try:\n",
    "        pattern = re.compile(r'([+(]?\\d+[)\\-]?[ \\t\\r\\f\\v]*[(]?\\d{2,}[()\\-]?[ \\t\\r\\f\\v]*\\d{2,}[()\\-]?[ \\t\\r\\f\\v]*\\d*[ \\t\\r\\f\\v]*\\d*[ \\t\\r\\f\\v]*)')\n",
    "            \n",
    "        match = pattern.findall(inputString)\n",
    "        \n",
    "        match = [re.sub(r'[,.]', '', el) for el in match if len(re.sub(r'[()\\-.,\\s+]', '', el))>6]\n",
    "            \n",
    "        match = [re.sub(r'\\D$', '', el).strip() for el in match]\n",
    "            \n",
    "        match = [el for el in match if len(re.sub(r'\\D','',el)) <= 15]\n",
    "            \n",
    "        try:\n",
    "            for el in list(match):\n",
    "                \n",
    "                if len(el.split('-')) > 3: continue # Year format YYYY-MM-DD\n",
    "                for x in el.split(\"-\"):\n",
    "                    try:\n",
    "                  \n",
    "                        if x.strip()[-4:].isdigit():\n",
    "                            if int(x.strip()[-4:]) in range(1900, 2100):\n",
    "                            \n",
    "                                match.remove(el)\n",
    "                    except:\n",
    "                        pass\n",
    "        except:\n",
    "            pass\n",
    "        number = match\n",
    "    except:\n",
    "        pass\n",
    "\n",
    "    infoDict['phone'] = number\n",
    "\n",
    "    if debug:\n",
    "        print(\"\\n\", pprint(infoDict), \"\\n\")\n",
    "        code.interact(local=locals())\n",
    "    return number\n",
    "\n",
    "def getName(inputString, infoDict, debug=False):\n",
    "   \n",
    "\n",
    "    \n",
    "    indianNames = open(\"all_Names.txt\", \"r\").read().lower()\n",
    " \n",
    "    indianNames = set(indianNames.split())\n",
    "\n",
    "\n",
    "    otherNameHits = []\n",
    "    nameHits = []\n",
    "    name = None\n",
    "\n",
    "    try:\n",
    "        tokens, lines, sentences = tokenize(inputString)\n",
    "       \n",
    "        grammar = r'NAME: {<NN.*><NN.*><NN.*>*}'\n",
    "  \n",
    "        chunkParser = nltk.RegexpParser(grammar)\n",
    "        all_chunked_tokens = []\n",
    "        for tagged_tokens in lines:\n",
    "           \n",
    "            if len(tagged_tokens) == 0: continue # Prevent it from printing warnings\n",
    "            chunked_tokens = chunkParser.parse(tagged_tokens)\n",
    "            all_chunked_tokens.append(chunked_tokens)\n",
    "            for subtree in chunked_tokens.subtrees():\n",
    "           \n",
    "                if subtree.label() == 'NAME':\n",
    "                    for ind, leaf in enumerate(subtree.leaves()):\n",
    "                        if leaf[0].lower() in indianNames and 'NN' in leaf[1]:\n",
    "                          \n",
    "                            hit = \" \".join([el[0] for el in subtree.leaves()[ind:ind+3]])\n",
    "                          \n",
    "                            if re.compile(r'[\\d,:]').search(hit): continue\n",
    "                            nameHits.append(hit)\n",
    "        if len(nameHits) > 0:\n",
    "            nameHits = [re.sub(r'[^a-zA-Z \\-]', '', el).strip() for el in nameHits] \n",
    "            name = \" \".join([el[0].upper()+el[1:].lower() for el in nameHits[0].split() if len(el)>0])\n",
    "            otherNameHits = nameHits[1:]\n",
    "\n",
    "    except Exception as e:\n",
    "        print(traceback.format_exc())\n",
    "        print(e)         \n",
    "\n",
    "    infoDict['name'] = name\n",
    "    #infoDict['otherNameHits'] = otherNameHits\n",
    "\n",
    "    if debug:\n",
    "        print(\"\\n\", pprint(infoDict), \"\\n\")\n",
    "        code.interact(local=locals())\n",
    "    return name, otherNameHits  \n"
   ]
  },
  {
   "cell_type": "code",
   "execution_count": 75,
   "metadata": {},
   "outputs": [],
   "source": [
    "nlist = []\n",
    "plist = []\n",
    "elist = []\n",
    "names=\"\"\n",
    "others=\"\"\n",
    "number=\"\"\n",
    "email=\"\"\n",
    "import os\n",
    "for file in os.listdir(\"C:\\\\Users\\\\Abhinav\\\\Desktop\\\\ml\\\\resumes\"):\n",
    "    infodict={}\n",
    "    if file.endswith(\".txt\"):\n",
    "        files = open(file,\"r\")\n",
    "        content = \"\"\n",
    "        for i in files.readlines():\n",
    "            content+=i\n",
    "        names,others = getName(content,infodict)\n",
    "        email = getEmail(content,infodict)\n",
    "        number = getPhone(content,infodict)\n",
    "        nlist.append(infodict[\"name\"])\n",
    "        plist.append(infodict[\"phone\"])\n",
    "        elist.append(infodict[\"email\"])\n",
    "        "
   ]
  },
  {
   "cell_type": "code",
   "execution_count": 69,
   "metadata": {},
   "outputs": [],
   "source": []
  },
  {
   "cell_type": "code",
   "execution_count": 84,
   "metadata": {},
   "outputs": [],
   "source": [
    "nplist = []\n",
    "for i in range(len(plist)):\n",
    "    if(len(plist[i])>0):\n",
    "        nplist.append(plist[i][0])\n",
    "    else:\n",
    "        nplist.append(\"111-111-1111\")"
   ]
  },
  {
   "cell_type": "code",
   "execution_count": 86,
   "metadata": {},
   "outputs": [],
   "source": [
    "eplist = []\n",
    "for i in range(len(elist)):\n",
    "    if(len(elist[i])>0):\n",
    "        eplist.append(elist[i][0])\n",
    "    else:\n",
    "        eplist.append(\"abc@xyz.com\")"
   ]
  },
  {
   "cell_type": "code",
   "execution_count": 87,
   "metadata": {},
   "outputs": [
    {
     "data": {
      "text/plain": [
       "['Abbaskhurram00001@gmail.com',\n",
       " 'abc@xyz.com',\n",
       " 'amarnath000001@gmail.com',\n",
       " 'arupkumar00001@gmail.com',\n",
       " '|tv00001@gmail.com',\n",
       " 'abc@xyz.com']"
      ]
     },
     "execution_count": 87,
     "metadata": {},
     "output_type": "execute_result"
    }
   ],
   "source": [
    "eplist"
   ]
  },
  {
   "cell_type": "code",
   "execution_count": 88,
   "metadata": {
    "collapsed": true
   },
   "outputs": [],
   "source": [
    "ninfodict = {}\n",
    "ninfodict[\"name\"] = nlist\n",
    "ninfodict[\"phone\"] = nplist\n",
    "ninfodict[\"email\"] = eplist"
   ]
  },
  {
   "cell_type": "code",
   "execution_count": 89,
   "metadata": {},
   "outputs": [
    {
     "data": {
      "text/plain": [
       "{'email': ['Abbaskhurram00001@gmail.com',\n",
       "  'abc@xyz.com',\n",
       "  'amarnath000001@gmail.com',\n",
       "  'arupkumar00001@gmail.com',\n",
       "  '|tv00001@gmail.com',\n",
       "  'abc@xyz.com'],\n",
       " 'name': ['Abbas Khurram',\n",
       "  'Sridharamurty Aabha Aabharana',\n",
       "  'Dash Board',\n",
       "  'Arup Kumar',\n",
       "  'Thomas',\n",
       "  'Gangadhar Vasan'],\n",
       " 'phone': ['929-111-1111',\n",
       "  '111-111-1111',\n",
       "  '999-123-1234',\n",
       "  '888-111-1234',\n",
       "  '1-222-111-1111',\n",
       "  '111-111-1111']}"
      ]
     },
     "execution_count": 89,
     "metadata": {},
     "output_type": "execute_result"
    }
   ],
   "source": [
    "ninfodict\n"
   ]
  },
  {
   "cell_type": "code",
   "execution_count": 90,
   "metadata": {
    "collapsed": true
   },
   "outputs": [],
   "source": [
    "import json\n",
    "\n",
    "def writeToJSONFile(path, fileName, data):\n",
    "    filePathNameWExt = './' + path + '/' + fileName + '.json'\n",
    "    with open(filePathNameWExt, 'w') as fp:\n",
    "        json.dump(data, fp)\n",
    "writeToJSONFile('./','submissions',ninfodict)"
   ]
  },
  {
   "cell_type": "code",
   "execution_count": null,
   "metadata": {
    "collapsed": true
   },
   "outputs": [],
   "source": []
  }
 ],
 "metadata": {
  "kernelspec": {
   "display_name": "Python 3",
   "language": "python",
   "name": "python3"
  },
  "language_info": {
   "codemirror_mode": {
    "name": "ipython",
    "version": 3
   },
   "file_extension": ".py",
   "mimetype": "text/x-python",
   "name": "python",
   "nbconvert_exporter": "python",
   "pygments_lexer": "ipython3",
   "version": "3.6.5"
  }
 },
 "nbformat": 4,
 "nbformat_minor": 2
}
