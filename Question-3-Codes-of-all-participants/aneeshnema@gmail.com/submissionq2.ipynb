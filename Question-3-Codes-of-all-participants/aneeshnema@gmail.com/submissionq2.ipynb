{
 "cells": [
  {
   "cell_type": "code",
   "execution_count": 1,
   "metadata": {},
   "outputs": [],
   "source": [
    "import pandas as pd\n",
    "import numpy as np\n",
    "import xgboost as xgb"
   ]
  },
  {
   "cell_type": "code",
   "execution_count": 2,
   "metadata": {},
   "outputs": [
    {
     "data": {
      "text/html": [
       "<div>\n",
       "<style scoped>\n",
       "    .dataframe tbody tr th:only-of-type {\n",
       "        vertical-align: middle;\n",
       "    }\n",
       "\n",
       "    .dataframe tbody tr th {\n",
       "        vertical-align: top;\n",
       "    }\n",
       "\n",
       "    .dataframe thead th {\n",
       "        text-align: right;\n",
       "    }\n",
       "</style>\n",
       "<table border=\"1\" class=\"dataframe\">\n",
       "  <thead>\n",
       "    <tr style=\"text-align: right;\">\n",
       "      <th></th>\n",
       "      <th>feature-1</th>\n",
       "      <th>feature-2</th>\n",
       "      <th>feature-3</th>\n",
       "      <th>feature-4</th>\n",
       "      <th>feature-5</th>\n",
       "      <th>feature-6</th>\n",
       "      <th>feature-7</th>\n",
       "      <th>feature-8</th>\n",
       "      <th>feature-9</th>\n",
       "      <th>feature-10</th>\n",
       "    </tr>\n",
       "  </thead>\n",
       "  <tbody>\n",
       "    <tr>\n",
       "      <th>0</th>\n",
       "      <td>0.000000</td>\n",
       "      <td>11.943319</td>\n",
       "      <td>100.000000</td>\n",
       "      <td>79.148787</td>\n",
       "      <td>0.000000</td>\n",
       "      <td>34.243699</td>\n",
       "      <td>66.276345</td>\n",
       "      <td>73.395226</td>\n",
       "      <td>71.764708</td>\n",
       "      <td>37.225929</td>\n",
       "    </tr>\n",
       "    <tr>\n",
       "      <th>1</th>\n",
       "      <td>21.917804</td>\n",
       "      <td>13.805665</td>\n",
       "      <td>34.024757</td>\n",
       "      <td>70.968638</td>\n",
       "      <td>37.313437</td>\n",
       "      <td>40.966388</td>\n",
       "      <td>79.625293</td>\n",
       "      <td>55.411921</td>\n",
       "      <td>78.431374</td>\n",
       "      <td>37.116899</td>\n",
       "    </tr>\n",
       "    <tr>\n",
       "      <th>2</th>\n",
       "      <td>22.965347</td>\n",
       "      <td>15.708501</td>\n",
       "      <td>30.511880</td>\n",
       "      <td>55.756012</td>\n",
       "      <td>86.567170</td>\n",
       "      <td>32.142856</td>\n",
       "      <td>77.283374</td>\n",
       "      <td>54.908921</td>\n",
       "      <td>64.705879</td>\n",
       "      <td>30.003979</td>\n",
       "    </tr>\n",
       "    <tr>\n",
       "      <th>3</th>\n",
       "      <td>25.946817</td>\n",
       "      <td>10.769232</td>\n",
       "      <td>30.645698</td>\n",
       "      <td>57.695894</td>\n",
       "      <td>98.507465</td>\n",
       "      <td>38.865545</td>\n",
       "      <td>66.510540</td>\n",
       "      <td>30.873128</td>\n",
       "      <td>65.882344</td>\n",
       "      <td>42.221736</td>\n",
       "    </tr>\n",
       "    <tr>\n",
       "      <th>4</th>\n",
       "      <td>23.045928</td>\n",
       "      <td>12.024289</td>\n",
       "      <td>29.909665</td>\n",
       "      <td>66.226727</td>\n",
       "      <td>86.567170</td>\n",
       "      <td>40.336134</td>\n",
       "      <td>76.580799</td>\n",
       "      <td>58.120087</td>\n",
       "      <td>59.607842</td>\n",
       "      <td>38.034107</td>\n",
       "    </tr>\n",
       "  </tbody>\n",
       "</table>\n",
       "</div>"
      ],
      "text/plain": [
       "   feature-1  feature-2   feature-3  feature-4  feature-5  feature-6  \\\n",
       "0   0.000000  11.943319  100.000000  79.148787   0.000000  34.243699   \n",
       "1  21.917804  13.805665   34.024757  70.968638  37.313437  40.966388   \n",
       "2  22.965347  15.708501   30.511880  55.756012  86.567170  32.142856   \n",
       "3  25.946817  10.769232   30.645698  57.695894  98.507465  38.865545   \n",
       "4  23.045928  12.024289   29.909665  66.226727  86.567170  40.336134   \n",
       "\n",
       "   feature-7  feature-8  feature-9  feature-10  \n",
       "0  66.276345  73.395226  71.764708   37.225929  \n",
       "1  79.625293  55.411921  78.431374   37.116899  \n",
       "2  77.283374  54.908921  64.705879   30.003979  \n",
       "3  66.510540  30.873128  65.882344   42.221736  \n",
       "4  76.580799  58.120087  59.607842   38.034107  "
      ]
     },
     "execution_count": 2,
     "metadata": {},
     "output_type": "execute_result"
    }
   ],
   "source": [
    "train_df = pd.read_csv('data_train.csv')\n",
    "test_df = pd.read_csv('data_test.csv')\n",
    "test_df.head()"
   ]
  },
  {
   "cell_type": "code",
   "execution_count": 3,
   "metadata": {},
   "outputs": [
    {
     "data": {
      "text/plain": [
       "XGBClassifier(base_score=0.5, booster='gbtree', colsample_bylevel=1,\n",
       "       colsample_bytree=1, gamma=0, learning_rate=1, max_delta_step=0,\n",
       "       max_depth=3, min_child_weight=1, missing=None, n_estimators=100,\n",
       "       n_jobs=1, nthread=None, objective='multi:softprob', random_state=0,\n",
       "       reg_alpha=0, reg_lambda=1, scale_pos_weight=1, seed=None,\n",
       "       silent=True, subsample=1)"
      ]
     },
     "execution_count": 3,
     "metadata": {},
     "output_type": "execute_result"
    }
   ],
   "source": [
    "xgb_model = xgb.XGBClassifier(learning_rate=1,max_depth=3,random_state=0)\n",
    "xgb_model.fit(train_df[train_df.columns[0:-1]],train_df['label'])"
   ]
  },
  {
   "cell_type": "code",
   "execution_count": 4,
   "metadata": {},
   "outputs": [],
   "source": [
    "y_pred = xgb_model.predict(test_df)"
   ]
  },
  {
   "cell_type": "code",
   "execution_count": 6,
   "metadata": {},
   "outputs": [],
   "source": [
    "y_pred = pd.DataFrame(y_pred)\n",
    "y_pred.to_csv('submissionq2.csv',index=False,header=False)"
   ]
  },
  {
   "cell_type": "code",
   "execution_count": null,
   "metadata": {},
   "outputs": [],
   "source": []
  }
 ],
 "metadata": {
  "kernelspec": {
   "display_name": "Python 3",
   "language": "python",
   "name": "python3"
  },
  "language_info": {
   "codemirror_mode": {
    "name": "ipython",
    "version": 3
   },
   "file_extension": ".py",
   "mimetype": "text/x-python",
   "name": "python",
   "nbconvert_exporter": "python",
   "pygments_lexer": "ipython3",
   "version": "3.6.5"
  }
 },
 "nbformat": 4,
 "nbformat_minor": 2
}
